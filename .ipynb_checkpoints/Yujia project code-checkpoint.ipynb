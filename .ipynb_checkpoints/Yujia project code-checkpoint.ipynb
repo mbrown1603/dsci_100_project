{
 "cells": [
  {
   "cell_type": "code",
   "execution_count": 2,
   "metadata": {},
   "outputs": [
    {
     "name": "stderr",
     "output_type": "stream",
     "text": [
      "── \u001b[1mAttaching packages\u001b[22m ─────────────────────────────────────── tidyverse 1.3.0 ──\n",
      "\n",
      "\u001b[32m✔\u001b[39m \u001b[34mggplot2\u001b[39m 3.3.2     \u001b[32m✔\u001b[39m \u001b[34mpurrr  \u001b[39m 0.3.4\n",
      "\u001b[32m✔\u001b[39m \u001b[34mtibble \u001b[39m 3.0.3     \u001b[32m✔\u001b[39m \u001b[34mdplyr  \u001b[39m 1.0.2\n",
      "\u001b[32m✔\u001b[39m \u001b[34mtidyr  \u001b[39m 1.1.2     \u001b[32m✔\u001b[39m \u001b[34mstringr\u001b[39m 1.4.0\n",
      "\u001b[32m✔\u001b[39m \u001b[34mreadr  \u001b[39m 1.3.1     \u001b[32m✔\u001b[39m \u001b[34mforcats\u001b[39m 0.5.0\n",
      "\n",
      "Warning message:\n",
      "“package ‘ggplot2’ was built under R version 4.0.1”\n",
      "Warning message:\n",
      "“package ‘tibble’ was built under R version 4.0.2”\n",
      "Warning message:\n",
      "“package ‘tidyr’ was built under R version 4.0.2”\n",
      "Warning message:\n",
      "“package ‘dplyr’ was built under R version 4.0.2”\n",
      "── \u001b[1mConflicts\u001b[22m ────────────────────────────────────────── tidyverse_conflicts() ──\n",
      "\u001b[31m✖\u001b[39m \u001b[34mdplyr\u001b[39m::\u001b[32mfilter()\u001b[39m masks \u001b[34mstats\u001b[39m::filter()\n",
      "\u001b[31m✖\u001b[39m \u001b[34mdplyr\u001b[39m::\u001b[32mlag()\u001b[39m    masks \u001b[34mstats\u001b[39m::lag()\n",
      "\n",
      "Warning message:\n",
      "“package ‘tidymodels’ was built under R version 4.0.2”\n",
      "── \u001b[1mAttaching packages\u001b[22m ────────────────────────────────────── tidymodels 0.1.1 ──\n",
      "\n",
      "\u001b[32m✔\u001b[39m \u001b[34mbroom    \u001b[39m 0.7.0      \u001b[32m✔\u001b[39m \u001b[34mrecipes  \u001b[39m 0.1.13\n",
      "\u001b[32m✔\u001b[39m \u001b[34mdials    \u001b[39m 0.0.9      \u001b[32m✔\u001b[39m \u001b[34mrsample  \u001b[39m 0.0.7 \n",
      "\u001b[32m✔\u001b[39m \u001b[34minfer    \u001b[39m 0.5.4      \u001b[32m✔\u001b[39m \u001b[34mtune     \u001b[39m 0.1.1 \n",
      "\u001b[32m✔\u001b[39m \u001b[34mmodeldata\u001b[39m 0.0.2      \u001b[32m✔\u001b[39m \u001b[34mworkflows\u001b[39m 0.2.0 \n",
      "\u001b[32m✔\u001b[39m \u001b[34mparsnip  \u001b[39m 0.1.3      \u001b[32m✔\u001b[39m \u001b[34myardstick\u001b[39m 0.0.7 \n",
      "\n",
      "Warning message:\n",
      "“package ‘broom’ was built under R version 4.0.2”\n",
      "Warning message:\n",
      "“package ‘dials’ was built under R version 4.0.2”\n",
      "Warning message:\n",
      "“package ‘infer’ was built under R version 4.0.3”\n",
      "Warning message:\n",
      "“package ‘modeldata’ was built under R version 4.0.1”\n",
      "Warning message:\n",
      "“package ‘parsnip’ was built under R version 4.0.2”\n",
      "Warning message:\n",
      "“package ‘recipes’ was built under R version 4.0.1”\n",
      "Warning message:\n",
      "“package ‘tune’ was built under R version 4.0.2”\n",
      "Warning message:\n",
      "“package ‘workflows’ was built under R version 4.0.2”\n",
      "Warning message:\n",
      "“package ‘yardstick’ was built under R version 4.0.2”\n",
      "── \u001b[1mConflicts\u001b[22m ───────────────────────────────────────── tidymodels_conflicts() ──\n",
      "\u001b[31m✖\u001b[39m \u001b[34mscales\u001b[39m::\u001b[32mdiscard()\u001b[39m masks \u001b[34mpurrr\u001b[39m::discard()\n",
      "\u001b[31m✖\u001b[39m \u001b[34mdplyr\u001b[39m::\u001b[32mfilter()\u001b[39m   masks \u001b[34mstats\u001b[39m::filter()\n",
      "\u001b[31m✖\u001b[39m \u001b[34mrecipes\u001b[39m::\u001b[32mfixed()\u001b[39m  masks \u001b[34mstringr\u001b[39m::fixed()\n",
      "\u001b[31m✖\u001b[39m \u001b[34mdplyr\u001b[39m::\u001b[32mlag()\u001b[39m      masks \u001b[34mstats\u001b[39m::lag()\n",
      "\u001b[31m✖\u001b[39m \u001b[34myardstick\u001b[39m::\u001b[32mspec()\u001b[39m masks \u001b[34mreadr\u001b[39m::spec()\n",
      "\u001b[31m✖\u001b[39m \u001b[34mrecipes\u001b[39m::\u001b[32mstep()\u001b[39m   masks \u001b[34mstats\u001b[39m::step()\n",
      "\n",
      "Warning message:\n",
      "“package ‘cowplot’ was built under R version 4.0.3”\n"
     ]
    }
   ],
   "source": [
    "library(tidyverse)\n",
    "library(tidymodels)\n",
    "library(readxl)\n",
    "library(cowplot)\n",
    "options(repr.matrix.rows=6)\n"
   ]
  },
  {
   "cell_type": "code",
   "execution_count": 3,
   "metadata": {},
   "outputs": [
    {
     "name": "stderr",
     "output_type": "stream",
     "text": [
      "Warning message:\n",
      "“Missing column names filled in: 'X7' [7], 'X8' [8]”\n",
      "Parsed with column specification:\n",
      "cols(\n",
      "  STG = \u001b[32mcol_double()\u001b[39m,\n",
      "  SCG = \u001b[32mcol_double()\u001b[39m,\n",
      "  STR = \u001b[32mcol_double()\u001b[39m,\n",
      "  LPR = \u001b[32mcol_double()\u001b[39m,\n",
      "  PEG = \u001b[32mcol_double()\u001b[39m,\n",
      "  UNS = \u001b[31mcol_character()\u001b[39m,\n",
      "  X7 = \u001b[33mcol_logical()\u001b[39m,\n",
      "  X8 = \u001b[33mcol_logical()\u001b[39m,\n",
      "  `Attribute Information:` = \u001b[31mcol_character()\u001b[39m\n",
      ")\n",
      "\n",
      "Warning message:\n",
      "“Missing column names filled in: 'X7' [7], 'X8' [8]”\n",
      "Parsed with column specification:\n",
      "cols(\n",
      "  STG = \u001b[32mcol_double()\u001b[39m,\n",
      "  SCG = \u001b[32mcol_double()\u001b[39m,\n",
      "  STR = \u001b[32mcol_double()\u001b[39m,\n",
      "  LPR = \u001b[32mcol_double()\u001b[39m,\n",
      "  PEG = \u001b[32mcol_double()\u001b[39m,\n",
      "  UNS = \u001b[31mcol_character()\u001b[39m,\n",
      "  X7 = \u001b[33mcol_logical()\u001b[39m,\n",
      "  X8 = \u001b[33mcol_logical()\u001b[39m,\n",
      "  `Attribute Information:` = \u001b[31mcol_character()\u001b[39m\n",
      ")\n",
      "\n"
     ]
    }
   ],
   "source": [
    "training_data <- read_csv(\"Training_KAHRAMAN.csv\")\n",
    "testing_data <- read_csv(\"Testing_KAHRAMAN.csv\")"
   ]
  },
  {
   "cell_type": "code",
   "execution_count": 4,
   "metadata": {},
   "outputs": [
    {
     "data": {
      "text/html": [
       "<table>\n",
       "<caption>A tibble: 6 × 6</caption>\n",
       "<thead>\n",
       "\t<tr><th scope=col>STG</th><th scope=col>SCG</th><th scope=col>STR</th><th scope=col>LPR</th><th scope=col>PEG</th><th scope=col>UNS</th></tr>\n",
       "\t<tr><th scope=col>&lt;dbl&gt;</th><th scope=col>&lt;dbl&gt;</th><th scope=col>&lt;dbl&gt;</th><th scope=col>&lt;dbl&gt;</th><th scope=col>&lt;dbl&gt;</th><th scope=col>&lt;fct&gt;</th></tr>\n",
       "</thead>\n",
       "<tbody>\n",
       "\t<tr><td>0.00</td><td>0.00</td><td>0.00</td><td>0.00</td><td>0.00</td><td>very_low</td></tr>\n",
       "\t<tr><td>0.08</td><td>0.08</td><td>0.10</td><td>0.24</td><td>0.90</td><td>High    </td></tr>\n",
       "\t<tr><td>0.06</td><td>0.06</td><td>0.05</td><td>0.25</td><td>0.33</td><td>Low     </td></tr>\n",
       "\t<tr><td>0.10</td><td>0.10</td><td>0.15</td><td>0.65</td><td>0.30</td><td>Middle  </td></tr>\n",
       "\t<tr><td>0.08</td><td>0.08</td><td>0.08</td><td>0.98</td><td>0.24</td><td>Low     </td></tr>\n",
       "\t<tr><td>0.09</td><td>0.15</td><td>0.40</td><td>0.10</td><td>0.66</td><td>Middle  </td></tr>\n",
       "</tbody>\n",
       "</table>\n"
      ],
      "text/latex": [
       "A tibble: 6 × 6\n",
       "\\begin{tabular}{llllll}\n",
       " STG & SCG & STR & LPR & PEG & UNS\\\\\n",
       " <dbl> & <dbl> & <dbl> & <dbl> & <dbl> & <fct>\\\\\n",
       "\\hline\n",
       "\t 0.00 & 0.00 & 0.00 & 0.00 & 0.00 & very\\_low\\\\\n",
       "\t 0.08 & 0.08 & 0.10 & 0.24 & 0.90 & High    \\\\\n",
       "\t 0.06 & 0.06 & 0.05 & 0.25 & 0.33 & Low     \\\\\n",
       "\t 0.10 & 0.10 & 0.15 & 0.65 & 0.30 & Middle  \\\\\n",
       "\t 0.08 & 0.08 & 0.08 & 0.98 & 0.24 & Low     \\\\\n",
       "\t 0.09 & 0.15 & 0.40 & 0.10 & 0.66 & Middle  \\\\\n",
       "\\end{tabular}\n"
      ],
      "text/markdown": [
       "\n",
       "A tibble: 6 × 6\n",
       "\n",
       "| STG &lt;dbl&gt; | SCG &lt;dbl&gt; | STR &lt;dbl&gt; | LPR &lt;dbl&gt; | PEG &lt;dbl&gt; | UNS &lt;fct&gt; |\n",
       "|---|---|---|---|---|---|\n",
       "| 0.00 | 0.00 | 0.00 | 0.00 | 0.00 | very_low |\n",
       "| 0.08 | 0.08 | 0.10 | 0.24 | 0.90 | High     |\n",
       "| 0.06 | 0.06 | 0.05 | 0.25 | 0.33 | Low      |\n",
       "| 0.10 | 0.10 | 0.15 | 0.65 | 0.30 | Middle   |\n",
       "| 0.08 | 0.08 | 0.08 | 0.98 | 0.24 | Low      |\n",
       "| 0.09 | 0.15 | 0.40 | 0.10 | 0.66 | Middle   |\n",
       "\n"
      ],
      "text/plain": [
       "  STG  SCG  STR  LPR  PEG  UNS     \n",
       "1 0.00 0.00 0.00 0.00 0.00 very_low\n",
       "2 0.08 0.08 0.10 0.24 0.90 High    \n",
       "3 0.06 0.06 0.05 0.25 0.33 Low     \n",
       "4 0.10 0.10 0.15 0.65 0.30 Middle  \n",
       "5 0.08 0.08 0.08 0.98 0.24 Low     \n",
       "6 0.09 0.15 0.40 0.10 0.66 Middle  "
      ]
     },
     "metadata": {},
     "output_type": "display_data"
    },
    {
     "data": {
      "text/html": [
       "<table>\n",
       "<caption>A tibble: 6 × 6</caption>\n",
       "<thead>\n",
       "\t<tr><th scope=col>STG</th><th scope=col>SCG</th><th scope=col>STR</th><th scope=col>LPR</th><th scope=col>PEG</th><th scope=col>UNS</th></tr>\n",
       "\t<tr><th scope=col>&lt;dbl&gt;</th><th scope=col>&lt;dbl&gt;</th><th scope=col>&lt;dbl&gt;</th><th scope=col>&lt;dbl&gt;</th><th scope=col>&lt;dbl&gt;</th><th scope=col>&lt;fct&gt;</th></tr>\n",
       "</thead>\n",
       "<tbody>\n",
       "\t<tr><td>0.00</td><td>0.10</td><td>0.50</td><td>0.26</td><td>0.05</td><td>Very Low</td></tr>\n",
       "\t<tr><td>0.05</td><td>0.05</td><td>0.55</td><td>0.60</td><td>0.14</td><td>Low     </td></tr>\n",
       "\t<tr><td>0.08</td><td>0.18</td><td>0.63</td><td>0.60</td><td>0.85</td><td>High    </td></tr>\n",
       "\t<tr><td>0.20</td><td>0.20</td><td>0.68</td><td>0.67</td><td>0.85</td><td>High    </td></tr>\n",
       "\t<tr><td>0.22</td><td>0.22</td><td>0.90</td><td>0.30</td><td>0.90</td><td>High    </td></tr>\n",
       "\t<tr><td>0.14</td><td>0.14</td><td>0.70</td><td>0.50</td><td>0.30</td><td>Low     </td></tr>\n",
       "</tbody>\n",
       "</table>\n"
      ],
      "text/latex": [
       "A tibble: 6 × 6\n",
       "\\begin{tabular}{llllll}\n",
       " STG & SCG & STR & LPR & PEG & UNS\\\\\n",
       " <dbl> & <dbl> & <dbl> & <dbl> & <dbl> & <fct>\\\\\n",
       "\\hline\n",
       "\t 0.00 & 0.10 & 0.50 & 0.26 & 0.05 & Very Low\\\\\n",
       "\t 0.05 & 0.05 & 0.55 & 0.60 & 0.14 & Low     \\\\\n",
       "\t 0.08 & 0.18 & 0.63 & 0.60 & 0.85 & High    \\\\\n",
       "\t 0.20 & 0.20 & 0.68 & 0.67 & 0.85 & High    \\\\\n",
       "\t 0.22 & 0.22 & 0.90 & 0.30 & 0.90 & High    \\\\\n",
       "\t 0.14 & 0.14 & 0.70 & 0.50 & 0.30 & Low     \\\\\n",
       "\\end{tabular}\n"
      ],
      "text/markdown": [
       "\n",
       "A tibble: 6 × 6\n",
       "\n",
       "| STG &lt;dbl&gt; | SCG &lt;dbl&gt; | STR &lt;dbl&gt; | LPR &lt;dbl&gt; | PEG &lt;dbl&gt; | UNS &lt;fct&gt; |\n",
       "|---|---|---|---|---|---|\n",
       "| 0.00 | 0.10 | 0.50 | 0.26 | 0.05 | Very Low |\n",
       "| 0.05 | 0.05 | 0.55 | 0.60 | 0.14 | Low      |\n",
       "| 0.08 | 0.18 | 0.63 | 0.60 | 0.85 | High     |\n",
       "| 0.20 | 0.20 | 0.68 | 0.67 | 0.85 | High     |\n",
       "| 0.22 | 0.22 | 0.90 | 0.30 | 0.90 | High     |\n",
       "| 0.14 | 0.14 | 0.70 | 0.50 | 0.30 | Low      |\n",
       "\n"
      ],
      "text/plain": [
       "  STG  SCG  STR  LPR  PEG  UNS     \n",
       "1 0.00 0.10 0.50 0.26 0.05 Very Low\n",
       "2 0.05 0.05 0.55 0.60 0.14 Low     \n",
       "3 0.08 0.18 0.63 0.60 0.85 High    \n",
       "4 0.20 0.20 0.68 0.67 0.85 High    \n",
       "5 0.22 0.22 0.90 0.30 0.90 High    \n",
       "6 0.14 0.14 0.70 0.50 0.30 Low     "
      ]
     },
     "metadata": {},
     "output_type": "display_data"
    },
    {
     "data": {
      "text/html": [
       "<table>\n",
       "<caption>A tibble: 1 × 5</caption>\n",
       "<thead>\n",
       "\t<tr><th scope=col>avg_STG</th><th scope=col>avg_SCG</th><th scope=col>avg_STR</th><th scope=col>avg_LPR</th><th scope=col>avg_PEG</th></tr>\n",
       "\t<tr><th scope=col>&lt;dbl&gt;</th><th scope=col>&lt;dbl&gt;</th><th scope=col>&lt;dbl&gt;</th><th scope=col>&lt;dbl&gt;</th><th scope=col>&lt;dbl&gt;</th></tr>\n",
       "</thead>\n",
       "<tbody>\n",
       "\t<tr><td>0.3711473</td><td>0.3556744</td><td>0.4680039</td><td>0.4327132</td><td>0.4585388</td></tr>\n",
       "</tbody>\n",
       "</table>\n"
      ],
      "text/latex": [
       "A tibble: 1 × 5\n",
       "\\begin{tabular}{lllll}\n",
       " avg\\_STG & avg\\_SCG & avg\\_STR & avg\\_LPR & avg\\_PEG\\\\\n",
       " <dbl> & <dbl> & <dbl> & <dbl> & <dbl>\\\\\n",
       "\\hline\n",
       "\t 0.3711473 & 0.3556744 & 0.4680039 & 0.4327132 & 0.4585388\\\\\n",
       "\\end{tabular}\n"
      ],
      "text/markdown": [
       "\n",
       "A tibble: 1 × 5\n",
       "\n",
       "| avg_STG &lt;dbl&gt; | avg_SCG &lt;dbl&gt; | avg_STR &lt;dbl&gt; | avg_LPR &lt;dbl&gt; | avg_PEG &lt;dbl&gt; |\n",
       "|---|---|---|---|---|\n",
       "| 0.3711473 | 0.3556744 | 0.4680039 | 0.4327132 | 0.4585388 |\n",
       "\n"
      ],
      "text/plain": [
       "  avg_STG   avg_SCG   avg_STR   avg_LPR   avg_PEG  \n",
       "1 0.3711473 0.3556744 0.4680039 0.4327132 0.4585388"
      ]
     },
     "metadata": {},
     "output_type": "display_data"
    }
   ],
   "source": [
    "training_tidy <- training_data %>%\n",
    "                    select(STG, SCG, STR, LPR, PEG, UNS) %>%\n",
    "                    mutate(UNS = as_factor(UNS))\n",
    "testing_tidy <- testing_data %>%\n",
    "                    select(STG, SCG, STR, LPR, PEG, UNS)%>%\n",
    "                    mutate(UNS = as_factor(UNS))\n",
    "training_summary <- training_tidy %>%\n",
    "                        summarise(avg_STG = mean(STG),\n",
    "                                  avg_SCG = mean(SCG), \n",
    "                                  avg_STR = mean(STR), \n",
    "                                  avg_LPR = mean(LPR), \n",
    "                                  avg_PEG = mean(PEG))\n",
    "head(training_tidy)\n",
    "head(testing_tidy)\n",
    "training_summary"
   ]
  },
  {
   "cell_type": "code",
   "execution_count": 24,
   "metadata": {},
   "outputs": [
    {
     "ename": "ERROR",
     "evalue": "Error: In metric: `accuracy`\nProblem with `summarise()` input `.estimate`.\n\u001b[31m✖\u001b[39m `truth` and `estimate` levels must be equivalent.\n`truth`: Very Low, Low, High, Middle\n`estimate`: very_low, High, Low, Middle\n\n\u001b[34mℹ\u001b[39m Input `.estimate` is `metric_fn(truth = UNS, estimate = .pred_class, na_rm = na_rm)`.\n",
     "output_type": "error",
     "traceback": [
      "Error: In metric: `accuracy`\nProblem with `summarise()` input `.estimate`.\n\u001b[31m✖\u001b[39m `truth` and `estimate` levels must be equivalent.\n`truth`: Very Low, Low, High, Middle\n`estimate`: very_low, High, Low, Middle\n\n\u001b[34mℹ\u001b[39m Input `.estimate` is `metric_fn(truth = UNS, estimate = .pred_class, na_rm = na_rm)`.\nTraceback:\n",
      "1. class_prediction %>% metrics(truth = UNS, estimate = .pred_class)",
      "2. withVisible(eval(quote(`_fseq`(`_lhs`)), env, env))",
      "3. eval(quote(`_fseq`(`_lhs`)), env, env)",
      "4. eval(quote(`_fseq`(`_lhs`)), env, env)",
      "5. `_fseq`(`_lhs`)",
      "6. freduce(value, `_function_list`)",
      "7. withVisible(function_list[[k]](value))",
      "8. function_list[[k]](value)",
      "9. metrics(., truth = UNS, estimate = .pred_class)",
      "10. metrics.data.frame(., truth = UNS, estimate = .pred_class)",
      "11. metrics_class(data, !!vars$truth, estimate = !!vars$estimate)",
      "12. mapply(FUN = eval_safely, class_calls, names(class_calls), SIMPLIFY = FALSE, \n  .     USE.NAMES = FALSE)",
      "13. (function (expr, expr_nm, data = NULL, env = caller_env()) \n  . {\n  .     tryCatch(expr = {\n  .         eval_tidy(expr, data = data, env = env)\n  .     }, error = function(e) {\n  .         abort(paste0(\"In metric: `\", expr_nm, \"`\\n\", e$message))\n  .     })\n  . })(dots[[1L]][[1L]], dots[[2L]][[1L]])",
      "14. tryCatch(expr = {\n  .     eval_tidy(expr, data = data, env = env)\n  . }, error = function(e) {\n  .     abort(paste0(\"In metric: `\", expr_nm, \"`\\n\", e$message))\n  . })",
      "15. tryCatchList(expr, classes, parentenv, handlers)",
      "16. tryCatchOne(expr, names, parentenv, handlers[[1L]])",
      "17. value[[3L]](cond)",
      "18. abort(paste0(\"In metric: `\", expr_nm, \"`\\n\", e$message))",
      "19. signal_abort(cnd)"
     ]
    }
   ],
   "source": [
    "#Evaluate classification accuracy using appropriate metrics\n",
    "predictions_met <-class_prediction %>%\n",
    "  metrics(truth =UNS, estimate = .pred_class)\n",
    "\n",
    "predictions_conf <-class_prediction %>%\n",
    "  conf_mat(truth =UNS, estimate = .pred_class)"
   ]
  },
  {
   "cell_type": "code",
   "execution_count": 25,
   "metadata": {},
   "outputs": [
    {
     "name": "stderr",
     "output_type": "stream",
     "text": [
      "\u001b[31mx\u001b[39m \u001b[31mFold01: model: Error in sort.int(x, na.last = na.last, decreasing = decreasing, ...\u001b[39m\n",
      "\n",
      "\u001b[31mx\u001b[39m \u001b[31mFold02: model: Error in sort.int(x, na.last = na.last, decreasing = decreasing, ...\u001b[39m\n",
      "\n",
      "\u001b[31mx\u001b[39m \u001b[31mFold03: model: Error in sort.int(x, na.last = na.last, decreasing = decreasing, ...\u001b[39m\n",
      "\n",
      "\u001b[31mx\u001b[39m \u001b[31mFold04: model: Error in sort.int(x, na.last = na.last, decreasing = decreasing, ...\u001b[39m\n",
      "\n",
      "\u001b[31mx\u001b[39m \u001b[31mFold05: model: Error in sort.int(x, na.last = na.last, decreasing = decreasing, ...\u001b[39m\n",
      "\n",
      "\u001b[31mx\u001b[39m \u001b[31mFold06: model: Error in sort.int(x, na.last = na.last, decreasing = decreasing, ...\u001b[39m\n",
      "\n",
      "\u001b[31mx\u001b[39m \u001b[31mFold07: model: Error in sort.int(x, na.last = na.last, decreasing = decreasing, ...\u001b[39m\n",
      "\n",
      "\u001b[31mx\u001b[39m \u001b[31mFold08: model: Error in sort.int(x, na.last = na.last, decreasing = decreasing, ...\u001b[39m\n",
      "\n",
      "\u001b[31mx\u001b[39m \u001b[31mFold09: model: Error in sort.int(x, na.last = na.last, decreasing = decreasing, ...\u001b[39m\n",
      "\n",
      "\u001b[31mx\u001b[39m \u001b[31mFold10: model: Error in sort.int(x, na.last = na.last, decreasing = decreasing, ...\u001b[39m\n",
      "\n",
      "Warning message:\n",
      "“All models failed in [fit_resamples()]. See the `.notes` column.”\n"
     ]
    },
    {
     "ename": "ERROR",
     "evalue": "Error: All of the models failed. See the .notes column.\n",
     "output_type": "error",
     "traceback": [
      "Error: All of the models failed. See the .notes column.\nTraceback:\n",
      "1. workflow() %>% add_recipe(uns_recipe) %>% add_model(knn_spec) %>% \n .     fit_resamples(resamples = uns_vfold) %>% collect_metrics()",
      "2. withVisible(eval(quote(`_fseq`(`_lhs`)), env, env))",
      "3. eval(quote(`_fseq`(`_lhs`)), env, env)",
      "4. eval(quote(`_fseq`(`_lhs`)), env, env)",
      "5. `_fseq`(`_lhs`)",
      "6. freduce(value, `_function_list`)",
      "7. withVisible(function_list[[k]](value))",
      "8. function_list[[k]](value)",
      "9. collect_metrics(.)",
      "10. estimate_tune_results(x)",
      "11. rlang::abort(\"All of the models failed. See the .notes column.\")",
      "12. signal_abort(cnd)"
     ]
    }
   ],
   "source": [
    "#corss-validation accuracy\n",
    "\n",
    "uns_vfold <- vfold_cv(training_tidy, v = 10, strata = UNS)\n",
    "vfold_metrics <- workflow() %>%\n",
    "                  add_recipe(uns_recipe) %>%\n",
    "                  add_model(knn_spec) %>%\n",
    "                  fit_resamples(resamples = uns_vfold) %>%\n",
    "                  collect_metrics()\n",
    "vfold_metrics"
   ]
  },
  {
   "cell_type": "code",
   "execution_count": 22,
   "metadata": {},
   "outputs": [
    {
     "name": "stderr",
     "output_type": "stream",
     "text": [
      "\u001b[31mx\u001b[39m \u001b[31mFold01: model: Error in sort.int(x, na.last = na.last, decreasing = decreasing, ...\u001b[39m\n",
      "\n",
      "\u001b[31mx\u001b[39m \u001b[31mFold02: model: Error in sort.int(x, na.last = na.last, decreasing = decreasing, ...\u001b[39m\n",
      "\n",
      "\u001b[31mx\u001b[39m \u001b[31mFold03: model: Error in sort.int(x, na.last = na.last, decreasing = decreasing, ...\u001b[39m\n",
      "\n",
      "\u001b[31mx\u001b[39m \u001b[31mFold04: model: Error in sort.int(x, na.last = na.last, decreasing = decreasing, ...\u001b[39m\n",
      "\n",
      "\u001b[31mx\u001b[39m \u001b[31mFold05: model: Error in sort.int(x, na.last = na.last, decreasing = decreasing, ...\u001b[39m\n",
      "\n",
      "\u001b[31mx\u001b[39m \u001b[31mFold06: model: Error in sort.int(x, na.last = na.last, decreasing = decreasing, ...\u001b[39m\n",
      "\n",
      "\u001b[31mx\u001b[39m \u001b[31mFold07: model: Error in sort.int(x, na.last = na.last, decreasing = decreasing, ...\u001b[39m\n",
      "\n",
      "\u001b[31mx\u001b[39m \u001b[31mFold08: model: Error in sort.int(x, na.last = na.last, decreasing = decreasing, ...\u001b[39m\n",
      "\n",
      "\u001b[31mx\u001b[39m \u001b[31mFold09: model: Error in sort.int(x, na.last = na.last, decreasing = decreasing, ...\u001b[39m\n",
      "\n",
      "\u001b[31mx\u001b[39m \u001b[31mFold10: model: Error in sort.int(x, na.last = na.last, decreasing = decreasing, ...\u001b[39m\n",
      "\n",
      "Warning message:\n",
      "“All models failed in [fit_resamples()]. See the `.notes` column.”\n"
     ]
    },
    {
     "ename": "ERROR",
     "evalue": "Error: All of the models failed. See the .notes column.\n",
     "output_type": "error",
     "traceback": [
      "Error: All of the models failed. See the .notes column.\nTraceback:\n",
      "1. workflow() %>% add_recipe(uns_recipe) %>% add_model(knn_spec) %>% \n .     fit_resamples(resamples = uns_vfold) %>% collect_metrics()",
      "2. withVisible(eval(quote(`_fseq`(`_lhs`)), env, env))",
      "3. eval(quote(`_fseq`(`_lhs`)), env, env)",
      "4. eval(quote(`_fseq`(`_lhs`)), env, env)",
      "5. `_fseq`(`_lhs`)",
      "6. freduce(value, `_function_list`)",
      "7. withVisible(function_list[[k]](value))",
      "8. function_list[[k]](value)",
      "9. collect_metrics(.)",
      "10. estimate_tune_results(x)",
      "11. rlang::abort(\"All of the models failed. See the .notes column.\")",
      "12. signal_abort(cnd)"
     ]
    }
   ],
   "source": [
    "#corss-validation accuracy\n",
    "uns_vfold <- vfold_cv(training_tidy, v = 10, strata = UNS)\n",
    "vfold_metrics <- workflow() %>%\n",
    "                  add_recipe(uns_recipe) %>%\n",
    "                  add_model(knn_spec) %>%\n",
    "                  fit_resamples(resamples = uns_vfold) %>%\n",
    "                  collect_metrics()\n",
    "vfold_metrics\n",
    "\n",
    "#cross-validation to choose K classification\n",
    "set.seed(2020)\n",
    "uns_recipe <- recipe(UNS ~LPR+PEG, data = training_tidy) %>%\n",
    "  step_scale(all_predictors()) %>%\n",
    "  step_center(all_predictors())\n",
    "\n",
    "knn_spec <- nearest_neighbor(weight_func = \"rectangular\", neighbors = tune()) %>%\n",
    "  set_engine(\"kknn\") %>%\n",
    "  set_mode(\"classification\")\n",
    "\n",
    "\n",
    "knn_results <- workflow() %>%\n",
    "  add_recipe(uns_recipe) %>%\n",
    "  add_model(knn_spec) %>%\n",
    "  tune_grid(resamples = uns_vfold, grid = 10) %>%\n",
    "  collect_metrics()\n",
    "knn_results\n",
    "\n",
    "accuracies <- knn_results %>%\n",
    "  filter(.metric == \"accuracy\")\n",
    "accuracy_vs_k <- ggplot(accuracies, aes(x = neighbors, y = mean)) +\n",
    "  geom_point() +\n",
    "  geom_line() +\n",
    "  labs(x = \"Neighbors\", y = \"Accuracy Estimate\")\n",
    "accuracy_vs_k"
   ]
  },
  {
   "cell_type": "code",
   "execution_count": null,
   "metadata": {},
   "outputs": [],
   "source": []
  }
 ],
 "metadata": {
  "kernelspec": {
   "display_name": "R",
   "language": "R",
   "name": "ir"
  },
  "language_info": {
   "codemirror_mode": "r",
   "file_extension": ".r",
   "mimetype": "text/x-r-source",
   "name": "R",
   "pygments_lexer": "r",
   "version": "4.0.0"
  }
 },
 "nbformat": 4,
 "nbformat_minor": 4
}
